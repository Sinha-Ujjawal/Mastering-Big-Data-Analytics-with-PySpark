{
 "metadata": {
  "language_info": {
   "codemirror_mode": {
    "name": "ipython",
    "version": 3
   },
   "file_extension": ".py",
   "mimetype": "text/x-python",
   "name": "python",
   "nbconvert_exporter": "python",
   "pygments_lexer": "ipython3",
   "version": "3.7.6-final"
  },
  "orig_nbformat": 2,
  "kernelspec": {
   "name": "pyspark-udemy",
   "display_name": "pyspark-udemy"
  }
 },
 "nbformat": 4,
 "nbformat_minor": 2,
 "cells": [
  {
   "cell_type": "code",
   "execution_count": 1,
   "metadata": {},
   "outputs": [],
   "source": [
    "from pyspark.sql import SparkSession, functions as f"
   ]
  },
  {
   "cell_type": "code",
   "execution_count": 2,
   "metadata": {},
   "outputs": [],
   "source": [
    "spark = (\n",
    "    SparkSession\n",
    "    .builder\n",
    "    .appName(\"Hands-on-3\")\n",
    "    .master(\"local[*]\")\n",
    "    .getOrCreate()\n",
    ")"
   ]
  },
  {
   "source": [
    "### Setting up what we had done in the previous hands-on"
   ],
   "cell_type": "markdown",
   "metadata": {}
  },
  {
   "cell_type": "code",
   "execution_count": 3,
   "metadata": {},
   "outputs": [],
   "source": [
    "df_ratings = (\n",
    "    spark\n",
    "    .read\n",
    "    .csv(\n",
    "        path=\"../../data-sets/ml-latest/ratings.csv\",\n",
    "        sep=\",\",\n",
    "        encoding=\"UTF-8\",\n",
    "        header=True,\n",
    "        quote='\"',\n",
    "        schema=\"userId INT, movieId INT, rating DOUBLE, timestamp INT\",\n",
    "    )\n",
    "    .withColumnRenamed(\"timestamp\", \"timestamp_unix\")\n",
    "    .withColumn(\"timestamp\", f.to_timestamp(f.from_unixtime(\"timestamp_unix\")))\n",
    "    .drop(\"timestamp_unix\")\n",
    ")"
   ]
  },
  {
   "cell_type": "code",
   "execution_count": 4,
   "metadata": {},
   "outputs": [
    {
     "output_type": "stream",
     "name": "stdout",
     "text": [
      "+------+-------+------+-------------------+\n|userId|movieId|rating|          timestamp|\n+------+-------+------+-------------------+\n|     1|    307|   3.5|2009-10-28 02:30:21|\n|     1|    481|   3.5|2009-10-28 02:34:16|\n|     1|   1091|   1.5|2009-10-28 02:34:31|\n|     1|   1257|   4.5|2009-10-28 02:34:20|\n|     1|   1449|   4.5|2009-10-28 02:31:04|\n+------+-------+------+-------------------+\nonly showing top 5 rows\n\nroot\n |-- userId: integer (nullable = true)\n |-- movieId: integer (nullable = true)\n |-- rating: double (nullable = true)\n |-- timestamp: timestamp (nullable = true)\n\n"
     ]
    }
   ],
   "source": [
    "df_ratings.show(n=5)\n",
    "df_ratings.printSchema()"
   ]
  },
  {
   "cell_type": "code",
   "execution_count": 5,
   "metadata": {},
   "outputs": [],
   "source": [
    "# As we anyway dropping timestamp_unix, we can directly apply the trasformations on timestamp column\n",
    "\n",
    "df_ratings = (\n",
    "    spark\n",
    "    .read\n",
    "    .csv(\n",
    "        path=\"../../data-sets/ml-latest/ratings.csv\",\n",
    "        sep=\",\",\n",
    "        encoding=\"UTF-8\",\n",
    "        header=True,\n",
    "        quote='\"',\n",
    "        schema=\"userId INT, movieId INT, rating DOUBLE, timestamp INT\",\n",
    "    )\n",
    "    .withColumn(\"timestamp\", f.to_timestamp(f.from_unixtime(\"timestamp\")))\n",
    ")"
   ]
  },
  {
   "cell_type": "code",
   "execution_count": 6,
   "metadata": {},
   "outputs": [
    {
     "output_type": "stream",
     "name": "stdout",
     "text": [
      "+------+-------+------+-------------------+\n",
      "|userId|movieId|rating|          timestamp|\n",
      "+------+-------+------+-------------------+\n",
      "|     1|    307|   3.5|2009-10-28 02:30:21|\n",
      "|     1|    481|   3.5|2009-10-28 02:34:16|\n",
      "|     1|   1091|   1.5|2009-10-28 02:34:31|\n",
      "|     1|   1257|   4.5|2009-10-28 02:34:20|\n",
      "|     1|   1449|   4.5|2009-10-28 02:31:04|\n",
      "+------+-------+------+-------------------+\n",
      "only showing top 5 rows\n",
      "\n",
      "root\n",
      " |-- userId: integer (nullable = true)\n",
      " |-- movieId: integer (nullable = true)\n",
      " |-- rating: double (nullable = true)\n",
      " |-- timestamp: timestamp (nullable = true)\n",
      "\n"
     ]
    }
   ],
   "source": [
    "df_ratings.show(n=5)\n",
    "df_ratings.printSchema()"
   ]
  },
  {
   "cell_type": "code",
   "execution_count": 7,
   "metadata": {},
   "outputs": [],
   "source": [
    "# We are now going to load movies.csv for furthur analysis\n",
    "\n",
    "df_movies = (\n",
    "    spark\n",
    "    .read\n",
    "    .csv(\n",
    "        path=\"../../data-sets/ml-latest/movies.csv\",\n",
    "        sep=\",\",\n",
    "        encoding=\"UTF-8\",\n",
    "        header=True,\n",
    "        quote='\"',\n",
    "        schema=\"movieId INT, title STRING, genres STRING\",\n",
    "    )\n",
    ")"
   ]
  },
  {
   "cell_type": "code",
   "execution_count": 8,
   "metadata": {},
   "outputs": [
    {
     "output_type": "stream",
     "name": "stdout",
     "text": [
      "+-------+--------------------+--------------------+\n|movieId|               title|              genres|\n+-------+--------------------+--------------------+\n|      1|    Toy Story (1995)|Adventure|Animati...|\n|      2|      Jumanji (1995)|Adventure|Childre...|\n|      3|Grumpier Old Men ...|      Comedy|Romance|\n|      4|Waiting to Exhale...|Comedy|Drama|Romance|\n|      5|Father of the Bri...|              Comedy|\n+-------+--------------------+--------------------+\nonly showing top 5 rows\n\nroot\n |-- movieId: integer (nullable = true)\n |-- title: string (nullable = true)\n |-- genres: string (nullable = true)\n\n"
     ]
    }
   ],
   "source": [
    "df_movies.show(n=5)\n",
    "df_movies.printSchema()"
   ]
  },
  {
   "source": [
    "### As we can see we have ellipsis (...) at some places in title and genre column. By default df.show method will truncate long strings with ellipsis (...). We can disable this with truncate=False argument, as follows-"
   ],
   "cell_type": "markdown",
   "metadata": {}
  },
  {
   "cell_type": "code",
   "execution_count": 9,
   "metadata": {},
   "outputs": [
    {
     "output_type": "stream",
     "name": "stdout",
     "text": [
      "+-------+----------------------------------+-------------------------------------------+\n|movieId|title                             |genres                                     |\n+-------+----------------------------------+-------------------------------------------+\n|1      |Toy Story (1995)                  |Adventure|Animation|Children|Comedy|Fantasy|\n|2      |Jumanji (1995)                    |Adventure|Children|Fantasy                 |\n|3      |Grumpier Old Men (1995)           |Comedy|Romance                             |\n|4      |Waiting to Exhale (1995)          |Comedy|Drama|Romance                       |\n|5      |Father of the Bride Part II (1995)|Comedy                                     |\n|6      |Heat (1995)                       |Action|Crime|Thriller                      |\n|7      |Sabrina (1995)                    |Comedy|Romance                             |\n|8      |Tom and Huck (1995)               |Adventure|Children                         |\n|9      |Sudden Death (1995)               |Action                                     |\n|10     |GoldenEye (1995)                  |Action|Adventure|Thriller                  |\n|11     |American President, The (1995)    |Comedy|Drama|Romance                       |\n|12     |Dracula: Dead and Loving It (1995)|Comedy|Horror                              |\n|13     |Balto (1995)                      |Adventure|Animation|Children               |\n|14     |Nixon (1995)                      |Drama                                      |\n|15     |Cutthroat Island (1995)           |Action|Adventure|Romance                   |\n+-------+----------------------------------+-------------------------------------------+\nonly showing top 15 rows\n\nroot\n |-- movieId: integer (nullable = true)\n |-- title: string (nullable = true)\n |-- genres: string (nullable = true)\n\n"
     ]
    }
   ],
   "source": [
    "df_movies.show(n=15, truncate=False)\n",
    "df_movies.printSchema()"
   ]
  },
  {
   "source": [
    "### Now we are going to work with filterring the data aka: Dicing and Slicing"
   ],
   "cell_type": "markdown",
   "metadata": {}
  },
  {
   "cell_type": "code",
   "execution_count": 10,
   "metadata": {},
   "outputs": [
    {
     "output_type": "error",
     "ename": "TypeError",
     "evalue": "condition should be string or Column",
     "traceback": [
      "\u001b[1;31m---------------------------------------------------------------------------\u001b[0m",
      "\u001b[1;31mTypeError\u001b[0m                                 Traceback (most recent call last)",
      "\u001b[1;32m<ipython-input-10-161e9b2ac2b7>\u001b[0m in \u001b[0;36m<module>\u001b[1;34m\u001b[0m\n\u001b[0;32m      1\u001b[0m \u001b[1;31m# Let's filter on genre with value \"Action\" in movies dataframe\u001b[0m\u001b[1;33m\u001b[0m\u001b[1;33m\u001b[0m\u001b[1;33m\u001b[0m\u001b[0m\n\u001b[1;32m----> 2\u001b[1;33m \u001b[0mdf_movies\u001b[0m\u001b[1;33m.\u001b[0m\u001b[0mwhere\u001b[0m\u001b[1;33m(\u001b[0m\u001b[1;34m\"genres\"\u001b[0m \u001b[1;33m==\u001b[0m \u001b[1;34m\"Action\"\u001b[0m\u001b[1;33m)\u001b[0m\u001b[1;33m.\u001b[0m\u001b[0mshow\u001b[0m\u001b[1;33m(\u001b[0m\u001b[1;33m)\u001b[0m \u001b[1;31m# This is going to fail\u001b[0m\u001b[1;33m\u001b[0m\u001b[1;33m\u001b[0m\u001b[0m\n\u001b[0m",
      "\u001b[1;32m~\\Anaconda3\\envs\\pyspark-udemy\\lib\\site-packages\\pyspark\\sql\\dataframe.py\u001b[0m in \u001b[0;36mfilter\u001b[1;34m(self, condition)\u001b[0m\n\u001b[0;32m   1461\u001b[0m             \u001b[0mjdf\u001b[0m \u001b[1;33m=\u001b[0m \u001b[0mself\u001b[0m\u001b[1;33m.\u001b[0m\u001b[0m_jdf\u001b[0m\u001b[1;33m.\u001b[0m\u001b[0mfilter\u001b[0m\u001b[1;33m(\u001b[0m\u001b[0mcondition\u001b[0m\u001b[1;33m.\u001b[0m\u001b[0m_jc\u001b[0m\u001b[1;33m)\u001b[0m\u001b[1;33m\u001b[0m\u001b[1;33m\u001b[0m\u001b[0m\n\u001b[0;32m   1462\u001b[0m         \u001b[1;32melse\u001b[0m\u001b[1;33m:\u001b[0m\u001b[1;33m\u001b[0m\u001b[1;33m\u001b[0m\u001b[0m\n\u001b[1;32m-> 1463\u001b[1;33m             \u001b[1;32mraise\u001b[0m \u001b[0mTypeError\u001b[0m\u001b[1;33m(\u001b[0m\u001b[1;34m\"condition should be string or Column\"\u001b[0m\u001b[1;33m)\u001b[0m\u001b[1;33m\u001b[0m\u001b[1;33m\u001b[0m\u001b[0m\n\u001b[0m\u001b[0;32m   1464\u001b[0m         \u001b[1;32mreturn\u001b[0m \u001b[0mDataFrame\u001b[0m\u001b[1;33m(\u001b[0m\u001b[0mjdf\u001b[0m\u001b[1;33m,\u001b[0m \u001b[0mself\u001b[0m\u001b[1;33m.\u001b[0m\u001b[0msql_ctx\u001b[0m\u001b[1;33m)\u001b[0m\u001b[1;33m\u001b[0m\u001b[1;33m\u001b[0m\u001b[0m\n\u001b[0;32m   1465\u001b[0m \u001b[1;33m\u001b[0m\u001b[0m\n",
      "\u001b[1;31mTypeError\u001b[0m: condition should be string or Column"
     ]
    }
   ],
   "source": [
    "# Let's filter on genre with value \"Action\" in movies dataframe\n",
    "df_movies.where(\"genres\" == \"Action\").show() # This is going to fail"
   ]
  },
  {
   "source": [
    "### As you can see, we are unable to perform this action, as we require th condition to have Column object instead of string. We can fix this by using the SQL expression instead of the pythonic way of representing condition"
   ],
   "cell_type": "markdown",
   "metadata": {}
  },
  {
   "cell_type": "code",
   "execution_count": 82,
   "metadata": {},
   "outputs": [
    {
     "output_type": "stream",
     "name": "stdout",
     "text": [
      "+-------+--------------------+------+\n|movieId|               title|genres|\n+-------+--------------------+------+\n|      9| Sudden Death (1995)|Action|\n|     71|    Fair Game (1995)|Action|\n|    204|Under Siege 2: Da...|Action|\n|    251|  Hunted, The (1995)|Action|\n|    667|Bloodsport 2 (a.k...|Action|\n|    980|Yes, Madam (a.k.a...|Action|\n|   1102|American Strays (...|Action|\n|   1110| Bird of Prey (1996)|Action|\n|   1170|Best of the Best ...|Action|\n|   1424|       Inside (1996)|Action|\n|   1434|Stranger, The (1994)|Action|\n|   1497|  Double Team (1997)|Action|\n|   1599|        Steel (1997)|Action|\n|   2196|    Knock Off (1998)|Action|\n|   2258|  Master, The (1984)|Action|\n|   2534|    Avalanche (1978)|Action|\n|   2756|Wanted: Dead or A...|Action|\n|   2817|Aces: Iron Eagle ...|Action|\n|   2965|Omega Code, The (...|Action|\n|   3283|Minnie and Moskow...|Action|\n+-------+--------------------+------+\nonly showing top 20 rows\n\n"
     ]
    }
   ],
   "source": [
    "df_movies.where('genres = \"Action\"').show() # Notice the quotes and single equals to \"=\""
   ]
  },
  {
   "source": [
    "### As you can see, we can use proper SQL expression for filterring, and it works"
   ],
   "cell_type": "markdown",
   "metadata": {}
  },
  {
   "source": [
    "### Another way to do the same thing is to convert the string \"genre\" to spark column, as follows-"
   ],
   "cell_type": "markdown",
   "metadata": {}
  },
  {
   "cell_type": "code",
   "execution_count": 83,
   "metadata": {},
   "outputs": [
    {
     "output_type": "stream",
     "name": "stdout",
     "text": [
      "+-------+-----------------------------------------------------------+------+\n|movieId|title                                                      |genres|\n+-------+-----------------------------------------------------------+------+\n|9      |Sudden Death (1995)                                        |Action|\n|71     |Fair Game (1995)                                           |Action|\n|204    |Under Siege 2: Dark Territory (1995)                       |Action|\n|251    |Hunted, The (1995)                                         |Action|\n|667    |Bloodsport 2 (a.k.a. Bloodsport II: The Next Kumite) (1996)|Action|\n+-------+-----------------------------------------------------------+------+\nonly showing top 5 rows\n\n"
     ]
    }
   ],
   "source": [
    "df_movies.where(f.col(\"genres\") == \"Action\").show(n=5, truncate=False)"
   ]
  },
  {
   "source": [
    "### I prefer the later, as it's more pythonic"
   ],
   "cell_type": "markdown",
   "metadata": {}
  },
  {
   "source": [
    "### As we can see the genre column has values seperated by pipe \"|\" symbol. I would like to have it as an array instead of a single string. For doing that I will create a new column called genre_array, and use f.split to apply transformation on genre column to split on the symbol \"|\""
   ],
   "cell_type": "markdown",
   "metadata": {}
  },
  {
   "cell_type": "code",
   "execution_count": 84,
   "metadata": {},
   "outputs": [
    {
     "output_type": "stream",
     "name": "stdout",
     "text": [
      "+-------+--------------------+--------------------+--------------------+\n|movieId|               title|              genres|        genres_array|\n+-------+--------------------+--------------------+--------------------+\n|      1|    Toy Story (1995)|Adventure|Animati...|[A, d, v, e, n, t...|\n|      2|      Jumanji (1995)|Adventure|Childre...|[A, d, v, e, n, t...|\n|      3|Grumpier Old Men ...|      Comedy|Romance|[C, o, m, e, d, y...|\n|      4|Waiting to Exhale...|Comedy|Drama|Romance|[C, o, m, e, d, y...|\n|      5|Father of the Bri...|              Comedy|[C, o, m, e, d, y, ]|\n+-------+--------------------+--------------------+--------------------+\nonly showing top 5 rows\n\nroot\n |-- movieId: integer (nullable = true)\n |-- title: string (nullable = true)\n |-- genres: string (nullable = true)\n |-- genres_array: array (nullable = true)\n |    |-- element: string (containsNull = true)\n\n"
     ]
    }
   ],
   "source": [
    "df_movies_with_genre = (\n",
    "    df_movies\n",
    "    .withColumn(\"genres_array\", f.split(\"genres\", \"|\"))\n",
    ")\n",
    "\n",
    "df_movies_with_genre.show(n=5)\n",
    "df_movies_with_genre.printSchema()"
   ]
  },
  {
   "source": [
    "### As we can see, it didn't work as expected. This happened because the second argument of f.split is actually a regex. And in the world of regex, \"|\" character is a special symbol, hence it needs to be excaped."
   ],
   "cell_type": "markdown",
   "metadata": {}
  },
  {
   "cell_type": "code",
   "execution_count": 85,
   "metadata": {},
   "outputs": [
    {
     "output_type": "stream",
     "name": "stdout",
     "text": [
      "+-------+----------------------------------+-------------------------------------------+-------------------------------------------------+\n|movieId|title                             |genres                                     |genres_array                                     |\n+-------+----------------------------------+-------------------------------------------+-------------------------------------------------+\n|1      |Toy Story (1995)                  |Adventure|Animation|Children|Comedy|Fantasy|[Adventure, Animation, Children, Comedy, Fantasy]|\n|2      |Jumanji (1995)                    |Adventure|Children|Fantasy                 |[Adventure, Children, Fantasy]                   |\n|3      |Grumpier Old Men (1995)           |Comedy|Romance                             |[Comedy, Romance]                                |\n|4      |Waiting to Exhale (1995)          |Comedy|Drama|Romance                       |[Comedy, Drama, Romance]                         |\n|5      |Father of the Bride Part II (1995)|Comedy                                     |[Comedy]                                         |\n+-------+----------------------------------+-------------------------------------------+-------------------------------------------------+\nonly showing top 5 rows\n\nroot\n |-- movieId: integer (nullable = true)\n |-- title: string (nullable = true)\n |-- genres: string (nullable = true)\n |-- genres_array: array (nullable = true)\n |    |-- element: string (containsNull = true)\n\n"
     ]
    }
   ],
   "source": [
    "df_movies_with_genre = (\n",
    "    df_movies\n",
    "    .withColumn(\"genres_array\", f.split(\"genres\", \"\\|\")) # notice the escape symbol \"\\\"\n",
    ")\n",
    "\n",
    "df_movies_with_genre.show(n=5, truncate=False)\n",
    "df_movies_with_genre.printSchema()"
   ]
  },
  {
   "source": [
    "### Now for we want to create a single row for every movie, genre pair. In order to that, we will need to \"explode\" the genres_array column using f.explode"
   ],
   "cell_type": "markdown",
   "metadata": {}
  },
  {
   "cell_type": "code",
   "execution_count": 86,
   "metadata": {},
   "outputs": [
    {
     "output_type": "stream",
     "name": "stdout",
     "text": [
      "+-------+----------------------------------+-------------------------------------------+-------------------------------------------------+---------+\n|movieId|title                             |genres                                     |genres_array                                     |genre    |\n+-------+----------------------------------+-------------------------------------------+-------------------------------------------------+---------+\n|1      |Toy Story (1995)                  |Adventure|Animation|Children|Comedy|Fantasy|[Adventure, Animation, Children, Comedy, Fantasy]|Adventure|\n|1      |Toy Story (1995)                  |Adventure|Animation|Children|Comedy|Fantasy|[Adventure, Animation, Children, Comedy, Fantasy]|Animation|\n|1      |Toy Story (1995)                  |Adventure|Animation|Children|Comedy|Fantasy|[Adventure, Animation, Children, Comedy, Fantasy]|Children |\n|1      |Toy Story (1995)                  |Adventure|Animation|Children|Comedy|Fantasy|[Adventure, Animation, Children, Comedy, Fantasy]|Comedy   |\n|1      |Toy Story (1995)                  |Adventure|Animation|Children|Comedy|Fantasy|[Adventure, Animation, Children, Comedy, Fantasy]|Fantasy  |\n|2      |Jumanji (1995)                    |Adventure|Children|Fantasy                 |[Adventure, Children, Fantasy]                   |Adventure|\n|2      |Jumanji (1995)                    |Adventure|Children|Fantasy                 |[Adventure, Children, Fantasy]                   |Children |\n|2      |Jumanji (1995)                    |Adventure|Children|Fantasy                 |[Adventure, Children, Fantasy]                   |Fantasy  |\n|3      |Grumpier Old Men (1995)           |Comedy|Romance                             |[Comedy, Romance]                                |Comedy   |\n|3      |Grumpier Old Men (1995)           |Comedy|Romance                             |[Comedy, Romance]                                |Romance  |\n|4      |Waiting to Exhale (1995)          |Comedy|Drama|Romance                       |[Comedy, Drama, Romance]                         |Comedy   |\n|4      |Waiting to Exhale (1995)          |Comedy|Drama|Romance                       |[Comedy, Drama, Romance]                         |Drama    |\n|4      |Waiting to Exhale (1995)          |Comedy|Drama|Romance                       |[Comedy, Drama, Romance]                         |Romance  |\n|5      |Father of the Bride Part II (1995)|Comedy                                     |[Comedy]                                         |Comedy   |\n|6      |Heat (1995)                       |Action|Crime|Thriller                      |[Action, Crime, Thriller]                        |Action   |\n+-------+----------------------------------+-------------------------------------------+-------------------------------------------------+---------+\nonly showing top 15 rows\n\nroot\n |-- movieId: integer (nullable = true)\n |-- title: string (nullable = true)\n |-- genres: string (nullable = true)\n |-- genres_array: array (nullable = true)\n |    |-- element: string (containsNull = true)\n |-- genre: string (nullable = true)\n\n"
     ]
    }
   ],
   "source": [
    "df_movies_with_genre = (\n",
    "    df_movies\n",
    "    .withColumn(\"genres_array\", f.split(\"genres\", \"\\|\")) # notice the escape symbol \"\\\"\n",
    "    .withColumn(\"genre\", f.explode(\"genres_array\"))\n",
    ")\n",
    "\n",
    "df_movies_with_genre.show(n=15, truncate=False)\n",
    "df_movies_with_genre.printSchema()"
   ]
  },
  {
   "source": [
    "### As we can see, each movie is \"exploded\" across every genre type. But it's hard to see, so we will select the rows we are interested in before showing"
   ],
   "cell_type": "markdown",
   "metadata": {}
  },
  {
   "cell_type": "code",
   "execution_count": 87,
   "metadata": {},
   "outputs": [
    {
     "output_type": "stream",
     "name": "stdout",
     "text": [
      "+-------+----------------------------------+---------+\n|movieId|title                             |genre    |\n+-------+----------------------------------+---------+\n|1      |Toy Story (1995)                  |Adventure|\n|1      |Toy Story (1995)                  |Animation|\n|1      |Toy Story (1995)                  |Children |\n|1      |Toy Story (1995)                  |Comedy   |\n|1      |Toy Story (1995)                  |Fantasy  |\n|2      |Jumanji (1995)                    |Adventure|\n|2      |Jumanji (1995)                    |Children |\n|2      |Jumanji (1995)                    |Fantasy  |\n|3      |Grumpier Old Men (1995)           |Comedy   |\n|3      |Grumpier Old Men (1995)           |Romance  |\n|4      |Waiting to Exhale (1995)          |Comedy   |\n|4      |Waiting to Exhale (1995)          |Drama    |\n|4      |Waiting to Exhale (1995)          |Romance  |\n|5      |Father of the Bride Part II (1995)|Comedy   |\n|6      |Heat (1995)                       |Action   |\n+-------+----------------------------------+---------+\nonly showing top 15 rows\n\nroot\n |-- movieId: integer (nullable = true)\n |-- title: string (nullable = true)\n |-- genre: string (nullable = true)\n\n"
     ]
    }
   ],
   "source": [
    "df_movies_with_genre = (\n",
    "    df_movies\n",
    "    .withColumn(\"genres_array\", f.split(\"genres\", \"\\|\")) # notice the escape symbol \"\\\"\n",
    "    .withColumn(\"genre\", f.explode(\"genres_array\"))\n",
    "    .select(\"movieId\", \"title\", \"genre\")\n",
    ")\n",
    "\n",
    "df_movies_with_genre.show(n=15, truncate=False)\n",
    "df_movies_with_genre.printSchema()"
   ]
  },
  {
   "source": [
    "### Now it's much better to visualize"
   ],
   "cell_type": "markdown",
   "metadata": {}
  },
  {
   "source": [
    "### Now let's list out all the distinct genre using .distinct"
   ],
   "cell_type": "markdown",
   "metadata": {}
  },
  {
   "cell_type": "code",
   "execution_count": 88,
   "metadata": {},
   "outputs": [
    {
     "output_type": "stream",
     "name": "stdout",
     "text": [
      "+------------------+\n|genre             |\n+------------------+\n|Crime             |\n|Romance           |\n|Thriller          |\n|Adventure         |\n|Drama             |\n|War               |\n|Documentary       |\n|Fantasy           |\n|Mystery           |\n|Musical           |\n|Animation         |\n|Film-Noir         |\n|(no genres listed)|\n|IMAX              |\n|Horror            |\n|Western           |\n|Comedy            |\n|Children          |\n|Action            |\n|Sci-Fi            |\n+------------------+\n\n"
     ]
    }
   ],
   "source": [
    "available_genres = df_movies_with_genre.select(\"genre\").distinct()\n",
    "available_genres.show(truncate=False)"
   ]
  },
  {
   "source": [
    "### We can see all the distinct genres, there is a value- (no genres listed). Let's figure out all the movies with (no genres listed)"
   ],
   "cell_type": "markdown",
   "metadata": {}
  },
  {
   "cell_type": "code",
   "execution_count": 89,
   "metadata": {},
   "outputs": [
    {
     "output_type": "stream",
     "name": "stdout",
     "text": [
      "Total: 4266 movie(s) does not have genres\n",
      "+-------+-----------------------------------------------+------------------+\n",
      "|movieId|title                                          |genres            |\n",
      "+-------+-----------------------------------------------+------------------+\n",
      "|83773  |Away with Words (San tiao ren) (1999)          |(no genres listed)|\n",
      "|83829  |Scorpio Rising (1964)                          |(no genres listed)|\n",
      "|84768  |Glitterbug (1994)                              |(no genres listed)|\n",
      "|86493  |Age of the Earth, The (A Idade da Terra) (1980)|(no genres listed)|\n",
      "|87061  |Trails (Veredas) (1978)                        |(no genres listed)|\n",
      "|91246  |Milky Way (Tejút) (2007)                       |(no genres listed)|\n",
      "|92435  |Dancing Hawk, The (Tanczacy jastrzab) (1978)   |(no genres listed)|\n",
      "|92641  |Warsaw Bridge (Pont de Varsòvia) (1990)        |(no genres listed)|\n",
      "|94431  |Ella Lola, a la Trilby (1898)                  |(no genres listed)|\n",
      "|94657  |Turkish Dance, Ella Lola (1898)                |(no genres listed)|\n",
      "|95541  |Blacksmith Scene (1893)                        |(no genres listed)|\n",
      "|95750  |Promise of the Flesh (Yukcheui yaksok) (1975)  |(no genres listed)|\n",
      "|96479  |Nocturno 29 (1968)                             |(no genres listed)|\n",
      "|96651  |Les hautes solitudes (1974)                    |(no genres listed)|\n",
      "|113472 |Direct from Brooklyn (1999)                    |(no genres listed)|\n",
      "|113545 |Primus Hallucino-Genetics Live 2004 (2004)     |(no genres listed)|\n",
      "|114335 |La cravate (1957)                              |(no genres listed)|\n",
      "|114587 |Glumov's Diary (Dnevnik Glumova) (1923)        |(no genres listed)|\n",
      "|114723 |At Land (1944)                                 |(no genres listed)|\n",
      "|114725 |Study in Choreography for Camera, A (1945)     |(no genres listed)|\n",
      "+-------+-----------------------------------------------+------------------+\n",
      "only showing top 20 rows\n",
      "\n"
     ]
    }
   ],
   "source": [
    "df_movies_with_no_genres = (\n",
    "    df_movies\n",
    "    .filter(f.col(\"genres\") == \"(no genres listed)\")\n",
    ")\n",
    "print(f\"Total: {df_movies_with_no_genres.count()} movie(s) does not have genres\")\n",
    "df_movies_with_no_genres.show(truncate=False)"
   ]
  },
  {
   "cell_type": "code",
   "execution_count": 90,
   "metadata": {},
   "outputs": [],
   "source": [
    "spark.stop()"
   ]
  },
  {
   "cell_type": "code",
   "execution_count": null,
   "metadata": {},
   "outputs": [],
   "source": []
  },
  {
   "cell_type": "code",
   "execution_count": null,
   "metadata": {},
   "outputs": [],
   "source": []
  }
 ]
}