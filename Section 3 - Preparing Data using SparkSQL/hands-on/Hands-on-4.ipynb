{
 "metadata": {
  "language_info": {
   "codemirror_mode": {
    "name": "ipython",
    "version": 3
   },
   "file_extension": ".py",
   "mimetype": "text/x-python",
   "name": "python",
   "nbconvert_exporter": "python",
   "pygments_lexer": "ipython3",
   "version": "3.7.6-final"
  },
  "orig_nbformat": 2,
  "kernelspec": {
   "name": "pyspark-udemy",
   "display_name": "pyspark-udemy"
  }
 },
 "nbformat": 4,
 "nbformat_minor": 2,
 "cells": [
  {
   "cell_type": "code",
   "execution_count": 4,
   "metadata": {},
   "outputs": [],
   "source": [
    "from pyspark.sql import SparkSession, functions as f"
   ]
  },
  {
   "cell_type": "code",
   "execution_count": 5,
   "metadata": {},
   "outputs": [],
   "source": [
    "spark = (\n",
    "    SparkSession\n",
    "    .builder\n",
    "    .appName(\"Hands-on-4\")\n",
    "    .master(\"local[*]\")\n",
    "    .getOrCreate()\n",
    ")"
   ]
  },
  {
   "source": [
    "### Setting up where we left off"
   ],
   "cell_type": "markdown",
   "metadata": {}
  },
  {
   "cell_type": "code",
   "execution_count": 6,
   "metadata": {},
   "outputs": [],
   "source": [
    "df_ratings = (\n",
    "    spark\n",
    "    .read\n",
    "    .csv(\n",
    "        path=\"../../data-sets/ml-latest/ratings.csv\",\n",
    "        header=True,\n",
    "        encoding=\"UTF-8\",\n",
    "        sep=\",\",\n",
    "        quote='\"',\n",
    "        schema=\"userId INT, movieId INT, rating DOUBLE, timestamp INT\"\n",
    "    )\n",
    "    .withColumn(\"timestamp\", f.to_timestamp(f.from_unixtime(\"timestamp\")))\n",
    ")"
   ]
  },
  {
   "cell_type": "code",
   "execution_count": 7,
   "metadata": {},
   "outputs": [
    {
     "output_type": "stream",
     "name": "stdout",
     "text": [
      "+------+-------+------+-------------------+\n|userId|movieId|rating|          timestamp|\n+------+-------+------+-------------------+\n|     1|    307|   3.5|2009-10-28 02:30:21|\n|     1|    481|   3.5|2009-10-28 02:34:16|\n|     1|   1091|   1.5|2009-10-28 02:34:31|\n|     1|   1257|   4.5|2009-10-28 02:34:20|\n|     1|   1449|   4.5|2009-10-28 02:31:04|\n+------+-------+------+-------------------+\nonly showing top 5 rows\n\nroot\n |-- userId: integer (nullable = true)\n |-- movieId: integer (nullable = true)\n |-- rating: double (nullable = true)\n |-- timestamp: timestamp (nullable = true)\n\n"
     ]
    }
   ],
   "source": [
    "df_ratings.show(n=5)\n",
    "df_ratings.printSchema()"
   ]
  },
  {
   "cell_type": "code",
   "execution_count": 8,
   "metadata": {},
   "outputs": [],
   "source": [
    "df_movies = (\n",
    "    spark\n",
    "    .read\n",
    "    .csv(\n",
    "        path=\"../../data-sets/ml-latest/movies.csv\",\n",
    "        encoding=\"UTF-8\",\n",
    "        sep=\",\",\n",
    "        header=True,\n",
    "        quote='\"',\n",
    "        schema=\"movieId INT, title STRING, genres STRING\",\n",
    "    )\n",
    ")"
   ]
  },
  {
   "cell_type": "code",
   "execution_count": 9,
   "metadata": {},
   "outputs": [
    {
     "output_type": "stream",
     "name": "stdout",
     "text": [
      "+-------+----------------------------------+-------------------------------------------+\n|movieId|title                             |genres                                     |\n+-------+----------------------------------+-------------------------------------------+\n|1      |Toy Story (1995)                  |Adventure|Animation|Children|Comedy|Fantasy|\n|2      |Jumanji (1995)                    |Adventure|Children|Fantasy                 |\n|3      |Grumpier Old Men (1995)           |Comedy|Romance                             |\n|4      |Waiting to Exhale (1995)          |Comedy|Drama|Romance                       |\n|5      |Father of the Bride Part II (1995)|Comedy                                     |\n|6      |Heat (1995)                       |Action|Crime|Thriller                      |\n|7      |Sabrina (1995)                    |Comedy|Romance                             |\n|8      |Tom and Huck (1995)               |Adventure|Children                         |\n|9      |Sudden Death (1995)               |Action                                     |\n|10     |GoldenEye (1995)                  |Action|Adventure|Thriller                  |\n|11     |American President, The (1995)    |Comedy|Drama|Romance                       |\n|12     |Dracula: Dead and Loving It (1995)|Comedy|Horror                              |\n|13     |Balto (1995)                      |Adventure|Animation|Children               |\n|14     |Nixon (1995)                      |Drama                                      |\n|15     |Cutthroat Island (1995)           |Action|Adventure|Romance                   |\n+-------+----------------------------------+-------------------------------------------+\nonly showing top 15 rows\n\nroot\n |-- movieId: integer (nullable = true)\n |-- title: string (nullable = true)\n |-- genres: string (nullable = true)\n\n"
     ]
    }
   ],
   "source": [
    "df_movies.show(n=15, truncate=False)\n",
    "df_movies.printSchema()"
   ]
  },
  {
   "cell_type": "code",
   "execution_count": 10,
   "metadata": {},
   "outputs": [],
   "source": [
    "df_movie_genre = (\n",
    "    df_movies\n",
    "    .withColumn(\"genres\", f.split(\"genres\", \"\\|\"))\n",
    "    .withColumn(\"genre\", f.explode(\"genres\"))\n",
    "    .drop(\"genres\")\n",
    ")"
   ]
  },
  {
   "cell_type": "code",
   "execution_count": 11,
   "metadata": {},
   "outputs": [
    {
     "output_type": "stream",
     "name": "stdout",
     "text": [
      "+-------+----------------------------------+---------+\n|movieId|title                             |genre    |\n+-------+----------------------------------+---------+\n|1      |Toy Story (1995)                  |Adventure|\n|1      |Toy Story (1995)                  |Animation|\n|1      |Toy Story (1995)                  |Children |\n|1      |Toy Story (1995)                  |Comedy   |\n|1      |Toy Story (1995)                  |Fantasy  |\n|2      |Jumanji (1995)                    |Adventure|\n|2      |Jumanji (1995)                    |Children |\n|2      |Jumanji (1995)                    |Fantasy  |\n|3      |Grumpier Old Men (1995)           |Comedy   |\n|3      |Grumpier Old Men (1995)           |Romance  |\n|4      |Waiting to Exhale (1995)          |Comedy   |\n|4      |Waiting to Exhale (1995)          |Drama    |\n|4      |Waiting to Exhale (1995)          |Romance  |\n|5      |Father of the Bride Part II (1995)|Comedy   |\n|6      |Heat (1995)                       |Action   |\n+-------+----------------------------------+---------+\nonly showing top 15 rows\n\nroot\n |-- movieId: integer (nullable = true)\n |-- title: string (nullable = true)\n |-- genre: string (nullable = true)\n\n"
     ]
    }
   ],
   "source": [
    "df_movie_genre.show(n=15, truncate=False)\n",
    "df_movie_genre.printSchema()"
   ]
  },
  {
   "cell_type": "code",
   "execution_count": 12,
   "metadata": {},
   "outputs": [],
   "source": [
    "available_genres = (\n",
    "    df_movie_genre\n",
    "    .select(\"genre\")\n",
    "    .distinct()\n",
    ")"
   ]
  },
  {
   "cell_type": "code",
   "execution_count": 13,
   "metadata": {},
   "outputs": [
    {
     "output_type": "execute_result",
     "data": {
      "text/plain": [
       "[Row(genre='Crime'),\n",
       " Row(genre='Romance'),\n",
       " Row(genre='Thriller'),\n",
       " Row(genre='Adventure'),\n",
       " Row(genre='Drama'),\n",
       " Row(genre='War'),\n",
       " Row(genre='Documentary'),\n",
       " Row(genre='Fantasy'),\n",
       " Row(genre='Mystery'),\n",
       " Row(genre='Musical'),\n",
       " Row(genre='Animation'),\n",
       " Row(genre='Film-Noir'),\n",
       " Row(genre='(no genres listed)'),\n",
       " Row(genre='IMAX'),\n",
       " Row(genre='Horror'),\n",
       " Row(genre='Western'),\n",
       " Row(genre='Comedy'),\n",
       " Row(genre='Children'),\n",
       " Row(genre='Action'),\n",
       " Row(genre='Sci-Fi')]"
      ]
     },
     "metadata": {},
     "execution_count": 13
    }
   ],
   "source": [
    "available_genres.collect()"
   ]
  },
  {
   "cell_type": "code",
   "execution_count": 14,
   "metadata": {},
   "outputs": [],
   "source": [
    "movies_without_genres = (\n",
    "    df_movies\n",
    "    .where(\n",
    "        f.col(\"genres\")\n",
    "        == \"(no genres listed)\"\n",
    "    )\n",
    ")"
   ]
  },
  {
   "cell_type": "code",
   "execution_count": 15,
   "metadata": {},
   "outputs": [
    {
     "output_type": "stream",
     "name": "stdout",
     "text": [
      "Total 4266 movie(s) does not have genres\n",
      "+-------+-----------------------------------------------+------------------+\n",
      "|movieId|title                                          |genres            |\n",
      "+-------+-----------------------------------------------+------------------+\n",
      "|83773  |Away with Words (San tiao ren) (1999)          |(no genres listed)|\n",
      "|83829  |Scorpio Rising (1964)                          |(no genres listed)|\n",
      "|84768  |Glitterbug (1994)                              |(no genres listed)|\n",
      "|86493  |Age of the Earth, The (A Idade da Terra) (1980)|(no genres listed)|\n",
      "|87061  |Trails (Veredas) (1978)                        |(no genres listed)|\n",
      "|91246  |Milky Way (Tejút) (2007)                       |(no genres listed)|\n",
      "|92435  |Dancing Hawk, The (Tanczacy jastrzab) (1978)   |(no genres listed)|\n",
      "|92641  |Warsaw Bridge (Pont de Varsòvia) (1990)        |(no genres listed)|\n",
      "|94431  |Ella Lola, a la Trilby (1898)                  |(no genres listed)|\n",
      "|94657  |Turkish Dance, Ella Lola (1898)                |(no genres listed)|\n",
      "|95541  |Blacksmith Scene (1893)                        |(no genres listed)|\n",
      "|95750  |Promise of the Flesh (Yukcheui yaksok) (1975)  |(no genres listed)|\n",
      "|96479  |Nocturno 29 (1968)                             |(no genres listed)|\n",
      "|96651  |Les hautes solitudes (1974)                    |(no genres listed)|\n",
      "|113472 |Direct from Brooklyn (1999)                    |(no genres listed)|\n",
      "|113545 |Primus Hallucino-Genetics Live 2004 (2004)     |(no genres listed)|\n",
      "|114335 |La cravate (1957)                              |(no genres listed)|\n",
      "|114587 |Glumov's Diary (Dnevnik Glumova) (1923)        |(no genres listed)|\n",
      "|114723 |At Land (1944)                                 |(no genres listed)|\n",
      "|114725 |Study in Choreography for Camera, A (1945)     |(no genres listed)|\n",
      "+-------+-----------------------------------------------+------------------+\n",
      "only showing top 20 rows\n",
      "\n"
     ]
    }
   ],
   "source": [
    "print(f\"Total {movies_without_genres.count()} movie(s) does not have genres\")\n",
    "movies_without_genres.show(truncate=False)"
   ]
  },
  {
   "source": [
    "### Let's read links.csv and tags.csv for further analysis"
   ],
   "cell_type": "markdown",
   "metadata": {}
  },
  {
   "cell_type": "code",
   "execution_count": 16,
   "metadata": {},
   "outputs": [],
   "source": [
    "df_links = (\n",
    "    spark\n",
    "    .read\n",
    "    .csv(\n",
    "        path=\"../../data-sets/ml-latest/links.csv\",\n",
    "        encoding=\"UTF-8\",\n",
    "        header=True,\n",
    "        sep=\",\",\n",
    "        quote='\"',\n",
    "        schema=\"movieId INT, imdbId INT, tmdbId INT\",\n",
    "    )\n",
    ")"
   ]
  },
  {
   "cell_type": "code",
   "execution_count": 17,
   "metadata": {},
   "outputs": [
    {
     "output_type": "stream",
     "name": "stdout",
     "text": [
      "+-------+------+------+\n|movieId|imdbId|tmdbId|\n+-------+------+------+\n|      1|114709|   862|\n|      2|113497|  8844|\n|      3|113228| 15602|\n|      4|114885| 31357|\n|      5|113041| 11862|\n+-------+------+------+\nonly showing top 5 rows\n\nroot\n |-- movieId: integer (nullable = true)\n |-- imdbId: integer (nullable = true)\n |-- tmdbId: integer (nullable = true)\n\n"
     ]
    }
   ],
   "source": [
    "df_links.show(n=5)\n",
    "df_links.printSchema()"
   ]
  },
  {
   "cell_type": "code",
   "execution_count": 18,
   "metadata": {},
   "outputs": [],
   "source": [
    "df_tags = (\n",
    "    spark\n",
    "    .read\n",
    "    .csv(\n",
    "        path=\"../../data-sets/ml-latest/tags.csv\",\n",
    "        encoding=\"UTF-8\",\n",
    "        header=True,\n",
    "        sep=\",\",\n",
    "        quote='\"',\n",
    "        schema=\"userId INT, movieId INT, tag STRING, timestamp INT\",\n",
    "    )\n",
    "    .withColumn(\"timestamp\", f.to_timestamp(f.from_unixtime(\"timestamp\")))\n",
    ")"
   ]
  },
  {
   "cell_type": "code",
   "execution_count": 19,
   "metadata": {},
   "outputs": [
    {
     "output_type": "stream",
     "name": "stdout",
     "text": [
      "+------+-------+------------+-------------------+\n",
      "|userId|movieId|         tag|          timestamp|\n",
      "+------+-------+------------+-------------------+\n",
      "|    14|    110|        epic|2015-09-25 08:05:38|\n",
      "|    14|    110|    Medieval|2015-09-25 08:05:32|\n",
      "|    14|    260|      sci-fi|2015-09-14 00:06:50|\n",
      "|    14|    260|space action|2015-09-14 00:07:01|\n",
      "|    14|    318|imdb top 250|2015-09-19 03:56:35|\n",
      "+------+-------+------------+-------------------+\n",
      "only showing top 5 rows\n",
      "\n",
      "root\n",
      " |-- userId: integer (nullable = true)\n",
      " |-- movieId: integer (nullable = true)\n",
      " |-- tag: string (nullable = true)\n",
      " |-- timestamp: timestamp (nullable = true)\n",
      "\n"
     ]
    }
   ],
   "source": [
    "df_tags.show(n=5)\n",
    "df_tags.printSchema()"
   ]
  },
  {
   "source": [
    "### Let's compute number of movies per genre"
   ],
   "cell_type": "markdown",
   "metadata": {}
  },
  {
   "cell_type": "code",
   "execution_count": 20,
   "metadata": {},
   "outputs": [],
   "source": [
    "df_movies_per_genre = (\n",
    "    df_movie_genre\n",
    "    .groupBy(\"genre\")\n",
    "    .count()\n",
    ")"
   ]
  },
  {
   "cell_type": "code",
   "execution_count": 26,
   "metadata": {},
   "outputs": [
    {
     "output_type": "stream",
     "name": "stdout",
     "text": [
      "+------------------+-----+\n|             genre|count|\n+------------------+-----+\n|             Crime| 5105|\n|           Romance| 7412|\n|          Thriller| 8216|\n|         Adventure| 4067|\n|             Drama|24144|\n|               War| 1820|\n|       Documentary| 5118|\n|           Fantasy| 2637|\n|           Mystery| 2773|\n|           Musical| 1113|\n|         Animation| 2663|\n|         Film-Noir|  364|\n|(no genres listed)| 4266|\n|              IMAX|  197|\n|            Horror| 5555|\n|           Western| 1378|\n|            Comedy|15956|\n|          Children| 2749|\n|            Action| 7130|\n|            Sci-Fi| 3444|\n+------------------+-----+\n\nroot\n |-- genre: string (nullable = true)\n |-- count: long (nullable = false)\n\n"
     ]
    }
   ],
   "source": [
    "df_movies_per_genre.show()\n",
    "df_movies_per_genre.printSchema()"
   ]
  },
  {
   "source": [
    "### Let's join df_movies and df_tags to get movie title with tags"
   ],
   "cell_type": "markdown",
   "metadata": {}
  },
  {
   "cell_type": "code",
   "execution_count": 44,
   "metadata": {},
   "outputs": [],
   "source": [
    "df_opinion = (\n",
    "    df_movies\n",
    "    .join(\n",
    "        df_tags,\n",
    "        on=df_movies[\"movieId\"] == df_tags[\"movieId\"],\n",
    "        how=\"inner\", # by default the join type is inner, but better provide than to be sorry\n",
    "    )\n",
    ")"
   ]
  },
  {
   "cell_type": "code",
   "execution_count": 45,
   "metadata": {},
   "outputs": [
    {
     "output_type": "stream",
     "name": "stdout",
     "text": [
      "+-------+-----------------------------------------+--------------------------------------+------+-------+--------------+-------------------+\n|movieId|title                                    |genres                                |userId|movieId|tag           |timestamp          |\n+-------+-----------------------------------------+--------------------------------------+------+-------+--------------+-------------------+\n|110    |Braveheart (1995)                        |Action|Drama|War                      |14    |110    |epic          |2015-09-25 08:05:38|\n|110    |Braveheart (1995)                        |Action|Drama|War                      |14    |110    |Medieval      |2015-09-25 08:05:32|\n|260    |Star Wars: Episode IV - A New Hope (1977)|Action|Adventure|Sci-Fi               |14    |260    |sci-fi        |2015-09-14 00:06:50|\n|260    |Star Wars: Episode IV - A New Hope (1977)|Action|Adventure|Sci-Fi               |14    |260    |space action  |2015-09-14 00:07:01|\n|318    |Shawshank Redemption, The (1994)         |Crime|Drama                           |14    |318    |imdb top 250  |2015-09-19 03:56:35|\n|318    |Shawshank Redemption, The (1994)         |Crime|Drama                           |14    |318    |justice       |2015-09-19 03:56:32|\n|480    |Jurassic Park (1993)                     |Action|Adventure|Sci-Fi|Thriller      |14    |480    |Dinosaurs     |2015-09-25 08:06:03|\n|593    |Silence of the Lambs, The (1991)         |Crime|Horror|Thriller                 |14    |593    |psychothriller|2015-10-05 08:34:46|\n|1682   |Truman Show, The (1998)                  |Comedy|Drama|Sci-Fi                   |14    |1682   |philosophy    |2015-09-19 03:55:58|\n|1682   |Truman Show, The (1998)                  |Comedy|Drama|Sci-Fi                   |14    |1682   |surveillance  |2015-09-19 03:56:07|\n|7458   |Troy (2004)                              |Action|Adventure|Drama|War            |14    |7458   |Epic          |2015-09-25 08:07:55|\n|95311  |Presto (2008)                            |Animation|Children|Comedy|Fantasy     |14    |95311  |Pixar         |2015-09-25 08:04:54|\n|117529 |Jurassic World (2015)                    |Action|Adventure|Drama|Sci-Fi|Thriller|14    |117529 |dinosaurs     |2015-09-25 08:07:26|\n|260    |Star Wars: Episode IV - A New Hope (1977)|Action|Adventure|Sci-Fi               |27    |260    |classic sci-fi|2015-08-25 01:58:33|\n|260    |Star Wars: Episode IV - A New Hope (1977)|Action|Adventure|Sci-Fi               |27    |260    |Harrison Ford |2015-08-25 01:58:43|\n+-------+-----------------------------------------+--------------------------------------+------+-------+--------------+-------------------+\nonly showing top 15 rows\n\nroot\n |-- movieId: integer (nullable = true)\n |-- title: string (nullable = true)\n |-- genres: string (nullable = true)\n |-- userId: integer (nullable = true)\n |-- movieId: integer (nullable = true)\n |-- tag: string (nullable = true)\n |-- timestamp: timestamp (nullable = true)\n\n"
     ]
    }
   ],
   "source": [
    "df_opinion.show(n=15, truncate=False)\n",
    "df_opinion.printSchema()"
   ]
  },
  {
   "source": [
    "### It's not easy to visualize, so let's select useful rows"
   ],
   "cell_type": "markdown",
   "metadata": {}
  },
  {
   "cell_type": "code",
   "execution_count": 46,
   "metadata": {},
   "outputs": [
    {
     "output_type": "error",
     "ename": "AnalysisException",
     "evalue": "Reference 'movieId' is ambiguous, could be: movieId, movieId.;",
     "traceback": [
      "\u001b[1;31m---------------------------------------------------------------------------\u001b[0m",
      "\u001b[1;31mAnalysisException\u001b[0m                         Traceback (most recent call last)",
      "\u001b[1;32m<ipython-input-46-ed7637a7fe34>\u001b[0m in \u001b[0;36m<module>\u001b[1;34m\u001b[0m\n\u001b[0;32m      6\u001b[0m         \u001b[0mhow\u001b[0m\u001b[1;33m=\u001b[0m\u001b[1;34m\"inner\"\u001b[0m\u001b[1;33m,\u001b[0m\u001b[1;33m\u001b[0m\u001b[1;33m\u001b[0m\u001b[0m\n\u001b[0;32m      7\u001b[0m     )\n\u001b[1;32m----> 8\u001b[1;33m     \u001b[1;33m.\u001b[0m\u001b[0mselect\u001b[0m\u001b[1;33m(\u001b[0m\u001b[1;34m\"userId\"\u001b[0m\u001b[1;33m,\u001b[0m \u001b[1;34m\"movieId\"\u001b[0m\u001b[1;33m,\u001b[0m \u001b[1;34m\"title\"\u001b[0m\u001b[1;33m,\u001b[0m \u001b[1;34m\"tag\"\u001b[0m\u001b[1;33m,\u001b[0m \u001b[1;34m\"timestamp\"\u001b[0m\u001b[1;33m)\u001b[0m\u001b[1;33m\u001b[0m\u001b[1;33m\u001b[0m\u001b[0m\n\u001b[0m\u001b[0;32m      9\u001b[0m )\n",
      "\u001b[1;32m~\\Anaconda3\\envs\\pyspark-udemy\\lib\\site-packages\\pyspark\\sql\\dataframe.py\u001b[0m in \u001b[0;36mselect\u001b[1;34m(self, *cols)\u001b[0m\n\u001b[0;32m   1419\u001b[0m         \u001b[1;33m[\u001b[0m\u001b[0mRow\u001b[0m\u001b[1;33m(\u001b[0m\u001b[0mname\u001b[0m\u001b[1;33m=\u001b[0m\u001b[1;34mu'Alice'\u001b[0m\u001b[1;33m,\u001b[0m \u001b[0mage\u001b[0m\u001b[1;33m=\u001b[0m\u001b[1;36m12\u001b[0m\u001b[1;33m)\u001b[0m\u001b[1;33m,\u001b[0m \u001b[0mRow\u001b[0m\u001b[1;33m(\u001b[0m\u001b[0mname\u001b[0m\u001b[1;33m=\u001b[0m\u001b[1;34mu'Bob'\u001b[0m\u001b[1;33m,\u001b[0m \u001b[0mage\u001b[0m\u001b[1;33m=\u001b[0m\u001b[1;36m15\u001b[0m\u001b[1;33m)\u001b[0m\u001b[1;33m]\u001b[0m\u001b[1;33m\u001b[0m\u001b[1;33m\u001b[0m\u001b[0m\n\u001b[0;32m   1420\u001b[0m         \"\"\"\n\u001b[1;32m-> 1421\u001b[1;33m         \u001b[0mjdf\u001b[0m \u001b[1;33m=\u001b[0m \u001b[0mself\u001b[0m\u001b[1;33m.\u001b[0m\u001b[0m_jdf\u001b[0m\u001b[1;33m.\u001b[0m\u001b[0mselect\u001b[0m\u001b[1;33m(\u001b[0m\u001b[0mself\u001b[0m\u001b[1;33m.\u001b[0m\u001b[0m_jcols\u001b[0m\u001b[1;33m(\u001b[0m\u001b[1;33m*\u001b[0m\u001b[0mcols\u001b[0m\u001b[1;33m)\u001b[0m\u001b[1;33m)\u001b[0m\u001b[1;33m\u001b[0m\u001b[1;33m\u001b[0m\u001b[0m\n\u001b[0m\u001b[0;32m   1422\u001b[0m         \u001b[1;32mreturn\u001b[0m \u001b[0mDataFrame\u001b[0m\u001b[1;33m(\u001b[0m\u001b[0mjdf\u001b[0m\u001b[1;33m,\u001b[0m \u001b[0mself\u001b[0m\u001b[1;33m.\u001b[0m\u001b[0msql_ctx\u001b[0m\u001b[1;33m)\u001b[0m\u001b[1;33m\u001b[0m\u001b[1;33m\u001b[0m\u001b[0m\n\u001b[0;32m   1423\u001b[0m \u001b[1;33m\u001b[0m\u001b[0m\n",
      "\u001b[1;32m~\\Anaconda3\\envs\\pyspark-udemy\\lib\\site-packages\\py4j\\java_gateway.py\u001b[0m in \u001b[0;36m__call__\u001b[1;34m(self, *args)\u001b[0m\n\u001b[0;32m   1303\u001b[0m         \u001b[0manswer\u001b[0m \u001b[1;33m=\u001b[0m \u001b[0mself\u001b[0m\u001b[1;33m.\u001b[0m\u001b[0mgateway_client\u001b[0m\u001b[1;33m.\u001b[0m\u001b[0msend_command\u001b[0m\u001b[1;33m(\u001b[0m\u001b[0mcommand\u001b[0m\u001b[1;33m)\u001b[0m\u001b[1;33m\u001b[0m\u001b[1;33m\u001b[0m\u001b[0m\n\u001b[0;32m   1304\u001b[0m         return_value = get_return_value(\n\u001b[1;32m-> 1305\u001b[1;33m             answer, self.gateway_client, self.target_id, self.name)\n\u001b[0m\u001b[0;32m   1306\u001b[0m \u001b[1;33m\u001b[0m\u001b[0m\n\u001b[0;32m   1307\u001b[0m         \u001b[1;32mfor\u001b[0m \u001b[0mtemp_arg\u001b[0m \u001b[1;32min\u001b[0m \u001b[0mtemp_args\u001b[0m\u001b[1;33m:\u001b[0m\u001b[1;33m\u001b[0m\u001b[1;33m\u001b[0m\u001b[0m\n",
      "\u001b[1;32m~\\Anaconda3\\envs\\pyspark-udemy\\lib\\site-packages\\pyspark\\sql\\utils.py\u001b[0m in \u001b[0;36mdeco\u001b[1;34m(*a, **kw)\u001b[0m\n\u001b[0;32m    132\u001b[0m                 \u001b[1;31m# Hide where the exception came from that shows a non-Pythonic\u001b[0m\u001b[1;33m\u001b[0m\u001b[1;33m\u001b[0m\u001b[1;33m\u001b[0m\u001b[0m\n\u001b[0;32m    133\u001b[0m                 \u001b[1;31m# JVM exception message.\u001b[0m\u001b[1;33m\u001b[0m\u001b[1;33m\u001b[0m\u001b[1;33m\u001b[0m\u001b[0m\n\u001b[1;32m--> 134\u001b[1;33m                 \u001b[0mraise_from\u001b[0m\u001b[1;33m(\u001b[0m\u001b[0mconverted\u001b[0m\u001b[1;33m)\u001b[0m\u001b[1;33m\u001b[0m\u001b[1;33m\u001b[0m\u001b[0m\n\u001b[0m\u001b[0;32m    135\u001b[0m             \u001b[1;32melse\u001b[0m\u001b[1;33m:\u001b[0m\u001b[1;33m\u001b[0m\u001b[1;33m\u001b[0m\u001b[0m\n\u001b[0;32m    136\u001b[0m                 \u001b[1;32mraise\u001b[0m\u001b[1;33m\u001b[0m\u001b[1;33m\u001b[0m\u001b[0m\n",
      "\u001b[1;32m~\\Anaconda3\\envs\\pyspark-udemy\\lib\\site-packages\\pyspark\\sql\\utils.py\u001b[0m in \u001b[0;36mraise_from\u001b[1;34m(e)\u001b[0m\n",
      "\u001b[1;31mAnalysisException\u001b[0m: Reference 'movieId' is ambiguous, could be: movieId, movieId.;"
     ]
    }
   ],
   "source": [
    "df_opinion = (\n",
    "    df_movies\n",
    "    .join(\n",
    "        df_tags,\n",
    "        on=df_movies[\"movieId\"] == df_tags[\"movieId\"],\n",
    "        how=\"inner\",\n",
    "    )\n",
    "    .select(\"userId\", \"movieId\", \"title\", \"tag\", \"timestamp\")\n",
    ")"
   ]
  },
  {
   "source": [
    "### Notice that we have two movieId columns, if we wan't to select only one we can't do that the usual way. A work around to that is to use a different syntax for providing `on` argument. As we know that movieId is present in both the dataframes, we can use something called a list notation for join clause"
   ],
   "cell_type": "markdown",
   "metadata": {}
  },
  {
   "cell_type": "code",
   "execution_count": 47,
   "metadata": {},
   "outputs": [],
   "source": [
    "df_opinion = (\n",
    "    df_movies\n",
    "    .join(\n",
    "        df_tags,\n",
    "        on=[\"movieId\"],\n",
    "        how=\"inner\",\n",
    "    )\n",
    ")"
   ]
  },
  {
   "cell_type": "code",
   "execution_count": 48,
   "metadata": {},
   "outputs": [
    {
     "output_type": "stream",
     "name": "stdout",
     "text": [
      "+-------+-----------------------------------------+--------------------------------------+------+--------------+-------------------+\n|movieId|title                                    |genres                                |userId|tag           |timestamp          |\n+-------+-----------------------------------------+--------------------------------------+------+--------------+-------------------+\n|110    |Braveheart (1995)                        |Action|Drama|War                      |14    |epic          |2015-09-25 08:05:38|\n|110    |Braveheart (1995)                        |Action|Drama|War                      |14    |Medieval      |2015-09-25 08:05:32|\n|260    |Star Wars: Episode IV - A New Hope (1977)|Action|Adventure|Sci-Fi               |14    |sci-fi        |2015-09-14 00:06:50|\n|260    |Star Wars: Episode IV - A New Hope (1977)|Action|Adventure|Sci-Fi               |14    |space action  |2015-09-14 00:07:01|\n|318    |Shawshank Redemption, The (1994)         |Crime|Drama                           |14    |imdb top 250  |2015-09-19 03:56:35|\n|318    |Shawshank Redemption, The (1994)         |Crime|Drama                           |14    |justice       |2015-09-19 03:56:32|\n|480    |Jurassic Park (1993)                     |Action|Adventure|Sci-Fi|Thriller      |14    |Dinosaurs     |2015-09-25 08:06:03|\n|593    |Silence of the Lambs, The (1991)         |Crime|Horror|Thriller                 |14    |psychothriller|2015-10-05 08:34:46|\n|1682   |Truman Show, The (1998)                  |Comedy|Drama|Sci-Fi                   |14    |philosophy    |2015-09-19 03:55:58|\n|1682   |Truman Show, The (1998)                  |Comedy|Drama|Sci-Fi                   |14    |surveillance  |2015-09-19 03:56:07|\n|7458   |Troy (2004)                              |Action|Adventure|Drama|War            |14    |Epic          |2015-09-25 08:07:55|\n|95311  |Presto (2008)                            |Animation|Children|Comedy|Fantasy     |14    |Pixar         |2015-09-25 08:04:54|\n|117529 |Jurassic World (2015)                    |Action|Adventure|Drama|Sci-Fi|Thriller|14    |dinosaurs     |2015-09-25 08:07:26|\n|260    |Star Wars: Episode IV - A New Hope (1977)|Action|Adventure|Sci-Fi               |27    |classic sci-fi|2015-08-25 01:58:33|\n|260    |Star Wars: Episode IV - A New Hope (1977)|Action|Adventure|Sci-Fi               |27    |Harrison Ford |2015-08-25 01:58:43|\n+-------+-----------------------------------------+--------------------------------------+------+--------------+-------------------+\nonly showing top 15 rows\n\nroot\n |-- movieId: integer (nullable = true)\n |-- title: string (nullable = true)\n |-- genres: string (nullable = true)\n |-- userId: integer (nullable = true)\n |-- tag: string (nullable = true)\n |-- timestamp: timestamp (nullable = true)\n\n"
     ]
    }
   ],
   "source": [
    "df_opinion.show(n=15, truncate=False)\n",
    "df_opinion.printSchema()"
   ]
  },
  {
   "source": [
    "### Now we can see that we only have one column for movieId. So we can use .select without any ambiguity"
   ],
   "cell_type": "markdown",
   "metadata": {}
  },
  {
   "cell_type": "code",
   "execution_count": 49,
   "metadata": {},
   "outputs": [],
   "source": [
    "df_opinion = (\n",
    "    df_movies\n",
    "    .join(\n",
    "        df_tags,\n",
    "        on=[\"movieId\"],\n",
    "        how=\"inner\",\n",
    "    )\n",
    "    .select(\"userId\", \"movieId\", \"title\", \"tag\", \"timestamp\")\n",
    ")"
   ]
  },
  {
   "cell_type": "code",
   "execution_count": 50,
   "metadata": {},
   "outputs": [
    {
     "output_type": "stream",
     "name": "stdout",
     "text": [
      "+------+-------+-----------------------------------------+--------------+-------------------+\n|userId|movieId|title                                    |tag           |timestamp          |\n+------+-------+-----------------------------------------+--------------+-------------------+\n|14    |110    |Braveheart (1995)                        |epic          |2015-09-25 08:05:38|\n|14    |110    |Braveheart (1995)                        |Medieval      |2015-09-25 08:05:32|\n|14    |260    |Star Wars: Episode IV - A New Hope (1977)|sci-fi        |2015-09-14 00:06:50|\n|14    |260    |Star Wars: Episode IV - A New Hope (1977)|space action  |2015-09-14 00:07:01|\n|14    |318    |Shawshank Redemption, The (1994)         |imdb top 250  |2015-09-19 03:56:35|\n|14    |318    |Shawshank Redemption, The (1994)         |justice       |2015-09-19 03:56:32|\n|14    |480    |Jurassic Park (1993)                     |Dinosaurs     |2015-09-25 08:06:03|\n|14    |593    |Silence of the Lambs, The (1991)         |psychothriller|2015-10-05 08:34:46|\n|14    |1682   |Truman Show, The (1998)                  |philosophy    |2015-09-19 03:55:58|\n|14    |1682   |Truman Show, The (1998)                  |surveillance  |2015-09-19 03:56:07|\n|14    |7458   |Troy (2004)                              |Epic          |2015-09-25 08:07:55|\n|14    |95311  |Presto (2008)                            |Pixar         |2015-09-25 08:04:54|\n|14    |117529 |Jurassic World (2015)                    |dinosaurs     |2015-09-25 08:07:26|\n|27    |260    |Star Wars: Episode IV - A New Hope (1977)|classic sci-fi|2015-08-25 01:58:33|\n|27    |260    |Star Wars: Episode IV - A New Hope (1977)|Harrison Ford |2015-08-25 01:58:43|\n+------+-------+-----------------------------------------+--------------+-------------------+\nonly showing top 15 rows\n\nroot\n |-- userId: integer (nullable = true)\n |-- movieId: integer (nullable = true)\n |-- title: string (nullable = true)\n |-- tag: string (nullable = true)\n |-- timestamp: timestamp (nullable = true)\n\n"
     ]
    }
   ],
   "source": [
    "df_opinion.show(n=15, truncate=False)\n",
    "df_opinion.printSchema()"
   ]
  },
  {
   "source": [
    "### Much better!"
   ],
   "cell_type": "markdown",
   "metadata": {}
  },
  {
   "cell_type": "code",
   "execution_count": 52,
   "metadata": {},
   "outputs": [],
   "source": [
    "df_opinion_ext = (\n",
    "    df_opinion\n",
    "    .withColumnRenamed(\"timestamp\", \"tag_time\")\n",
    "    .join(\n",
    "        df_ratings,\n",
    "        on=[\"movieId\", \"userId\"]\n",
    "    )\n",
    ")"
   ]
  },
  {
   "cell_type": "code",
   "execution_count": 53,
   "metadata": {},
   "outputs": [
    {
     "output_type": "stream",
     "name": "stdout",
     "text": [
      "+-------+------+----------------------------+----------------+-------------------+------+-------------------+\n|movieId|userId|title                       |tag             |tag_time           |rating|timestamp          |\n+-------+------+----------------------------+----------------+-------------------+------+-------------------+\n|1      |277453|Toy Story (1995)            |animation       |2006-05-12 10:43:44|4.0   |2006-05-12 10:43:47|\n|1      |277453|Toy Story (1995)            |Disney          |2006-05-12 21:35:42|4.0   |2006-05-12 10:43:47|\n|1      |277453|Toy Story (1995)            |Pixar           |2006-05-12 10:43:42|4.0   |2006-05-12 10:43:47|\n|1      |277453|Toy Story (1995)            |toys            |2006-05-12 21:35:40|4.0   |2006-05-12 10:43:47|\n|6      |11476 |Heat (1995)                 |Al Pacino       |2013-08-15 20:10:02|3.5   |2013-08-15 20:09:35|\n|6      |11476 |Heat (1995)                 |crime           |2013-08-15 20:10:11|3.5   |2013-08-15 20:09:35|\n|6      |11476 |Heat (1995)                 |great acting    |2013-08-15 20:10:10|3.5   |2013-08-15 20:09:35|\n|6      |11476 |Heat (1995)                 |realistic action|2013-08-15 20:10:16|3.5   |2013-08-15 20:09:35|\n|6      |11476 |Heat (1995)                 |suspense        |2013-08-15 20:09:53|3.5   |2013-08-15 20:09:35|\n|6      |11476 |Heat (1995)                 |tense           |2013-08-15 20:09:50|3.5   |2013-08-15 20:09:35|\n|17     |71028 |Sense and Sensibility (1995)|Alan Rickman    |2012-06-03 06:56:43|5.0   |2012-06-03 06:56:12|\n|17     |71028 |Sense and Sensibility (1995)|chick flick     |2012-06-03 06:56:51|5.0   |2012-06-03 06:56:12|\n|17     |71028 |Sense and Sensibility (1995)|classic         |2012-06-03 06:56:31|5.0   |2012-06-03 06:56:12|\n|17     |71028 |Sense and Sensibility (1995)|Hugh Grant      |2012-06-03 06:56:40|5.0   |2012-06-03 06:56:12|\n|17     |71028 |Sense and Sensibility (1995)|Jane Austen     |2012-06-03 06:56:24|5.0   |2012-06-03 06:56:12|\n+-------+------+----------------------------+----------------+-------------------+------+-------------------+\nonly showing top 15 rows\n\nroot\n |-- movieId: integer (nullable = true)\n |-- userId: integer (nullable = true)\n |-- title: string (nullable = true)\n |-- tag: string (nullable = true)\n |-- tag_time: timestamp (nullable = true)\n |-- rating: double (nullable = true)\n |-- timestamp: timestamp (nullable = true)\n\n"
     ]
    }
   ],
   "source": [
    "df_opinion_ext.show(n=15, truncate=False)\n",
    "df_opinion_ext.printSchema()"
   ]
  },
  {
   "cell_type": "code",
   "execution_count": 54,
   "metadata": {},
   "outputs": [
    {
     "output_type": "execute_result",
     "data": {
      "text/plain": [
       "58098"
      ]
     },
     "metadata": {},
     "execution_count": 54
    }
   ],
   "source": [
    "df_movies.count()"
   ]
  },
  {
   "cell_type": "code",
   "execution_count": 55,
   "metadata": {},
   "outputs": [
    {
     "output_type": "execute_result",
     "data": {
      "text/plain": [
       "27753444"
      ]
     },
     "metadata": {},
     "execution_count": 55
    }
   ],
   "source": [
    "df_ratings.count()"
   ]
  },
  {
   "cell_type": "code",
   "execution_count": 56,
   "metadata": {},
   "outputs": [
    {
     "output_type": "execute_result",
     "data": {
      "text/plain": [
       "830492"
      ]
     },
     "metadata": {},
     "execution_count": 56
    }
   ],
   "source": [
    "df_opinion_ext.count()"
   ]
  },
  {
   "cell_type": "code",
   "execution_count": null,
   "metadata": {},
   "outputs": [],
   "source": [
    "spark.stop()"
   ]
  }
 ]
}