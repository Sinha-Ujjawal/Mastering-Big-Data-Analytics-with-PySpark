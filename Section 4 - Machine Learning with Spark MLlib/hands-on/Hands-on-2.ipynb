{
 "metadata": {
  "language_info": {
   "codemirror_mode": {
    "name": "ipython",
    "version": 3
   },
   "file_extension": ".py",
   "mimetype": "text/x-python",
   "name": "python",
   "nbconvert_exporter": "python",
   "pygments_lexer": "ipython3",
   "version": "3.7.6-final"
  },
  "orig_nbformat": 2,
  "kernelspec": {
   "name": "pyspark-udemy",
   "display_name": "pyspark-udemy"
  }
 },
 "nbformat": 4,
 "nbformat_minor": 2,
 "cells": [
  {
   "cell_type": "code",
   "execution_count": 1,
   "metadata": {},
   "outputs": [],
   "source": [
    "from pyspark.sql import SparkSession, functions as f\n",
    "from pyspark.ml.recommendation import ALS\n",
    "from pyspark.ml.evaluation import  RegressionEvaluator\n",
    "from pyspark.ml.tuning import CrossValidator, ParamGridBuilder"
   ]
  },
  {
   "cell_type": "code",
   "execution_count": 2,
   "metadata": {},
   "outputs": [],
   "source": [
    "spark = (\n",
    "    SparkSession\n",
    "    .builder\n",
    "    .appName(\"Hands-on-2\")\n",
    "    .getOrCreate()\n",
    ")"
   ]
  },
  {
   "cell_type": "code",
   "execution_count": 3,
   "metadata": {},
   "outputs": [],
   "source": [
    "df_ratings = (\n",
    "    spark\n",
    "    .read\n",
    "    .csv(\n",
    "        path=\"../../data-sets/ml-latest-small/ratings.csv\",\n",
    "        encoding=\"UTF-8\",\n",
    "        header=True,\n",
    "        sep=\",\",\n",
    "        quote='\"',\n",
    "        schema=\"userId INT, movieId INT, rating DOUBLE\",\n",
    "    )\n",
    "    .cache()\n",
    ")"
   ]
  },
  {
   "cell_type": "code",
   "execution_count": 4,
   "metadata": {},
   "outputs": [
    {
     "output_type": "stream",
     "name": "stdout",
     "text": [
      "+------+-------+------+\n|userId|movieId|rating|\n+------+-------+------+\n|     1|      1|   4.0|\n|     1|      3|   4.0|\n|     1|      6|   4.0|\n|     1|     47|   5.0|\n|     1|     50|   5.0|\n+------+-------+------+\nonly showing top 5 rows\n\nroot\n |-- userId: integer (nullable = true)\n |-- movieId: integer (nullable = true)\n |-- rating: double (nullable = true)\n\n"
     ]
    }
   ],
   "source": [
    "df_ratings.show(n=5)\n",
    "df_ratings.printSchema()"
   ]
  },
  {
   "cell_type": "code",
   "execution_count": 5,
   "metadata": {},
   "outputs": [],
   "source": [
    "als = ALS(\n",
    "    userCol=\"userId\",\n",
    "    itemCol=\"movieId\",\n",
    "    ratingCol=\"rating\",\n",
    ")\n",
    "\n",
    "evaluator = RegressionEvaluator(\n",
    "    metricName=\"rmse\",\n",
    "    labelCol=\"rating\",\n",
    "    predictionCol=\"prediction\",\n",
    ")\n",
    "\n",
    "model = als.fit(df_ratings)"
   ]
  },
  {
   "cell_type": "code",
   "execution_count": 6,
   "metadata": {},
   "outputs": [],
   "source": [
    "predictions = model.transform(df_ratings)"
   ]
  },
  {
   "cell_type": "code",
   "execution_count": 7,
   "metadata": {},
   "outputs": [
    {
     "output_type": "stream",
     "name": "stdout",
     "text": [
      "+------+-------+------+----------+\n|userId|movieId|rating|prediction|\n+------+-------+------+----------+\n|   191|    148|   5.0| 4.9297347|\n|   133|    471|   4.0| 3.2152045|\n|   597|    471|   2.0| 4.0085406|\n|   385|    471|   4.0| 3.3811128|\n|   436|    471|   3.0| 3.5208173|\n|   602|    471|   4.0| 3.5010448|\n|    91|    471|   1.0|  2.445023|\n|   409|    471|   3.0| 3.4316573|\n|   372|    471|   3.0| 2.9174552|\n|   599|    471|   2.5| 2.8954353|\n+------+-------+------+----------+\nonly showing top 10 rows\n\nroot\n |-- userId: integer (nullable = true)\n |-- movieId: integer (nullable = true)\n |-- rating: double (nullable = true)\n |-- prediction: float (nullable = false)\n\n"
     ]
    }
   ],
   "source": [
    "predictions.show(n=10)\n",
    "predictions.printSchema()"
   ]
  },
  {
   "cell_type": "code",
   "execution_count": 8,
   "metadata": {},
   "outputs": [
    {
     "output_type": "stream",
     "name": "stdout",
     "text": [
      "+---+---------------------------------------------------------------------------------------------------------------------------+\n|id |features                                                                                                                   |\n+---+---------------------------------------------------------------------------------------------------------------------------+\n|10 |[0.31201747, -0.17938858, 0.15557252, 0.78966224, -0.42821676, 1.352444, -0.070634305, -0.07513054, -0.026014643, 1.443979]|\n|20 |[0.29125655, 0.27197567, -0.3590232, 0.90615726, -1.2176069, 0.22594482, -0.5948918, 0.7772299, -0.38546714, 1.0759174]    |\n|30 |[0.22459081, -0.115073286, -0.6438237, 1.4620582, -0.9533095, 0.4615792, -0.42670465, -0.12914932, -0.16771397, 1.0337924] |\n|40 |[-0.9375402, 0.17264089, -0.14390844, 1.2114497, -0.78587115, -0.33476546, -0.13498156, 0.73558533, -0.31722298, 1.0872016]|\n|50 |[-0.28890848, 0.15933083, -0.18356502, 1.000538, -0.4172648, -0.40999547, -0.6172192, 0.6099451, -0.095354974, 0.4465528]  |\n+---+---------------------------------------------------------------------------------------------------------------------------+\nonly showing top 5 rows\n\n"
     ]
    }
   ],
   "source": [
    "model.userFactors.show(n=5, truncate=False)"
   ]
  },
  {
   "cell_type": "code",
   "execution_count": 9,
   "metadata": {},
   "outputs": [
    {
     "output_type": "stream",
     "name": "stdout",
     "text": [
      "+---+----------------------------------------------------------------------------------------------------------------------------+\n|id |features                                                                                                                    |\n+---+----------------------------------------------------------------------------------------------------------------------------+\n|10 |[-0.469974, -0.14568347, -0.9402919, 1.2925159, -0.73094994, 0.26085767, -0.14938031, -0.046538725, -0.50040627, 0.81097925]|\n|20 |[0.11602994, -0.6213116, -0.15869027, 0.8187811, -1.153036, 0.2879887, -0.39606032, 0.14882378, -0.04251895, 0.58639055]    |\n|30 |[-0.8230819, -0.026631294, 0.39107653, 1.3568213, -0.5299762, -0.84508294, -0.735634, 0.67914414, 0.055350915, -0.34147218] |\n|40 |[-0.9704534, -0.66428685, -0.15510106, 1.572923, 0.091763034, 0.19297075, -0.18669344, -0.12169195, -0.012725148, 0.6942066]|\n|50 |[-0.21576905, -0.4739233, -0.40830356, 1.5390491, -0.9294805, -0.19142205, -0.7276866, 0.68900865, -0.043955438, 1.0082475] |\n+---+----------------------------------------------------------------------------------------------------------------------------+\nonly showing top 5 rows\n\n"
     ]
    }
   ],
   "source": [
    "model.itemFactors.show(n=5, truncate=False)"
   ]
  },
  {
   "cell_type": "code",
   "execution_count": 10,
   "metadata": {},
   "outputs": [],
   "source": [
    "rmse = evaluator.evaluate(predictions)"
   ]
  },
  {
   "cell_type": "code",
   "execution_count": 11,
   "metadata": {},
   "outputs": [
    {
     "output_type": "execute_result",
     "data": {
      "text/plain": [
       "0.5926578722191046"
      ]
     },
     "metadata": {},
     "execution_count": 11
    }
   ],
   "source": [
    "rmse"
   ]
  },
  {
   "source": [
    "### As we can see, the rmse of our model is about 0.59. It's not bad, but we can see that we are majorly overfitting on our data with our model. This happened, because we didn't held any testing data to test our model. So let's split the data we have into training and testing data"
   ],
   "cell_type": "markdown",
   "metadata": {}
  },
  {
   "cell_type": "code",
   "execution_count": 12,
   "metadata": {},
   "outputs": [],
   "source": [
    "df_train, df_val = df_ratings.randomSplit([8.0, 2.0]) # the numbers inside the list should add up to 10 i.e; 100%. Here I am splitting into two sets with 80% in first and 20% in the second"
   ]
  },
  {
   "cell_type": "code",
   "execution_count": 13,
   "metadata": {},
   "outputs": [],
   "source": [
    "als = ALS(\n",
    "    userCol=\"userId\",\n",
    "    itemCol=\"movieId\",\n",
    "    ratingCol=\"rating\",\n",
    ")\n",
    "\n",
    "# let's fit our model on df_train instead of df_ratings\n",
    "model = als.fit(df_train)"
   ]
  },
  {
   "cell_type": "code",
   "execution_count": 14,
   "metadata": {},
   "outputs": [],
   "source": [
    "# let's make predictions on our validation data for evaluation\n",
    "predictions = model.transform(df_val)"
   ]
  },
  {
   "cell_type": "code",
   "execution_count": 15,
   "metadata": {},
   "outputs": [
    {
     "output_type": "stream",
     "name": "stdout",
     "text": [
      "+------+-------+------+----------+\n|userId|movieId|rating|prediction|\n+------+-------+------+----------+\n|602   |471    |4.0   |3.3421779 |\n|603   |471    |4.0   |2.621055  |\n|57    |471    |3.0   |3.9584088 |\n|217   |471    |2.0   |2.9968648 |\n|32    |471    |3.0   |3.9091992 |\n|260   |471    |4.5   |2.7593756 |\n|373   |471    |5.0   |3.5842373 |\n|609   |833    |3.0   |1.0989308 |\n|492   |833    |4.0   |0.97820824|\n|47    |1088   |4.0   |2.4766352 |\n|474   |1088   |3.5   |3.1090312 |\n|594   |1088   |4.5   |4.262006  |\n|221   |1088   |3.0   |3.2366261 |\n|425   |1342   |3.5   |2.4487479 |\n|503   |1342   |1.0   |3.6643238 |\n+------+-------+------+----------+\nonly showing top 15 rows\n\n"
     ]
    }
   ],
   "source": [
    "predictions.show(n=15, truncate=False)"
   ]
  },
  {
   "cell_type": "code",
   "execution_count": 16,
   "metadata": {},
   "outputs": [],
   "source": [
    "rmse = evaluator.evaluate(predictions)"
   ]
  },
  {
   "cell_type": "code",
   "execution_count": 17,
   "metadata": {},
   "outputs": [
    {
     "output_type": "execute_result",
     "data": {
      "text/plain": [
       "nan"
      ]
     },
     "metadata": {},
     "execution_count": 17
    }
   ],
   "source": [
    "rmse"
   ]
  },
  {
   "source": [
    "### So, why did this happened. This happened because our predictions on our validation data might have nan values. So we will have to filter out the nan rows before evaluating to get more realistic rmse value"
   ],
   "cell_type": "markdown",
   "metadata": {}
  },
  {
   "cell_type": "code",
   "execution_count": 18,
   "metadata": {},
   "outputs": [],
   "source": [
    "rmse = evaluator.evaluate(predictions.na.drop())"
   ]
  },
  {
   "cell_type": "code",
   "execution_count": 19,
   "metadata": {},
   "outputs": [
    {
     "output_type": "execute_result",
     "data": {
      "text/plain": [
       "0.883968225787856"
      ]
     },
     "metadata": {},
     "execution_count": 19
    }
   ],
   "source": [
    "rmse"
   ]
  },
  {
   "source": [
    "### Let's use a cross-validator from pyspark package to do cross validation on our data"
   ],
   "cell_type": "markdown",
   "metadata": {}
  },
  {
   "source": [
    "### This is the class definition of ALS model of pyspark\n",
    "\n",
    "```python\n",
    "class pyspark.ml.recommendation.ALS(\n",
    "    rank=10, # Hyperparameter\n",
    "    maxIter=10, # Hyperparameter\n",
    "    regParam=0.1, # Hyperparameter\n",
    "    numUserBlocks=10, # Performance\n",
    "    numItemBlocks=10, # Performance\n",
    "    implicitPrefs=False, # For Implicit recommendation\n",
    "    alpha=1.0, # For Implicit recommendation\n",
    "    userCol='user',\n",
    "    itemCol='item',\n",
    "    seed=None,\n",
    "    ratingCol='rating',\n",
    "    nonnegative=False,\n",
    "    checkpointInterval=10,\n",
    "    intermediateStorageLevel='MEMORY_AND_DISK',\n",
    "    finalStorageLevel='MEMORY_AND_DISK',\n",
    "    coldStartStrategy='nan',\n",
    "    blockSize=4096,\n",
    ")\n",
    "```"
   ],
   "cell_type": "markdown",
   "metadata": {}
  },
  {
   "cell_type": "code",
   "execution_count": 20,
   "metadata": {},
   "outputs": [],
   "source": [
    "# Let's build a parameter grid that will represents the possible values of hyperparameters we want to search for\n",
    "parameter_grid = (\n",
    "    ParamGridBuilder()\n",
    "    .addGrid(als.rank, [2, 5, 7, 10])\n",
    "    .addGrid(als.maxIter, [10, 20])\n",
    "    .addGrid(als.regParam, [0.05, 0.1])\n",
    "    .build()\n",
    ")"
   ]
  },
  {
   "cell_type": "code",
   "execution_count": 21,
   "metadata": {},
   "outputs": [
    {
     "output_type": "execute_result",
     "data": {
      "text/plain": [
       "list"
      ]
     },
     "metadata": {},
     "execution_count": 21
    }
   ],
   "source": [
    "type(parameter_grid)"
   ]
  },
  {
   "cell_type": "code",
   "execution_count": 22,
   "metadata": {},
   "outputs": [
    {
     "output_type": "execute_result",
     "data": {
      "text/plain": [
       "[{Param(parent='ALS_bc3e75cb79ae', name='rank', doc='rank of the factorization'): 2,\n",
       "  Param(parent='ALS_bc3e75cb79ae', name='maxIter', doc='max number of iterations (>= 0).'): 10,\n",
       "  Param(parent='ALS_bc3e75cb79ae', name='regParam', doc='regularization parameter (>= 0).'): 0.05},\n",
       " {Param(parent='ALS_bc3e75cb79ae', name='rank', doc='rank of the factorization'): 2,\n",
       "  Param(parent='ALS_bc3e75cb79ae', name='maxIter', doc='max number of iterations (>= 0).'): 10,\n",
       "  Param(parent='ALS_bc3e75cb79ae', name='regParam', doc='regularization parameter (>= 0).'): 0.1},\n",
       " {Param(parent='ALS_bc3e75cb79ae', name='rank', doc='rank of the factorization'): 2,\n",
       "  Param(parent='ALS_bc3e75cb79ae', name='maxIter', doc='max number of iterations (>= 0).'): 20,\n",
       "  Param(parent='ALS_bc3e75cb79ae', name='regParam', doc='regularization parameter (>= 0).'): 0.05},\n",
       " {Param(parent='ALS_bc3e75cb79ae', name='rank', doc='rank of the factorization'): 2,\n",
       "  Param(parent='ALS_bc3e75cb79ae', name='maxIter', doc='max number of iterations (>= 0).'): 20,\n",
       "  Param(parent='ALS_bc3e75cb79ae', name='regParam', doc='regularization parameter (>= 0).'): 0.1},\n",
       " {Param(parent='ALS_bc3e75cb79ae', name='rank', doc='rank of the factorization'): 5,\n",
       "  Param(parent='ALS_bc3e75cb79ae', name='maxIter', doc='max number of iterations (>= 0).'): 10,\n",
       "  Param(parent='ALS_bc3e75cb79ae', name='regParam', doc='regularization parameter (>= 0).'): 0.05},\n",
       " {Param(parent='ALS_bc3e75cb79ae', name='rank', doc='rank of the factorization'): 5,\n",
       "  Param(parent='ALS_bc3e75cb79ae', name='maxIter', doc='max number of iterations (>= 0).'): 10,\n",
       "  Param(parent='ALS_bc3e75cb79ae', name='regParam', doc='regularization parameter (>= 0).'): 0.1},\n",
       " {Param(parent='ALS_bc3e75cb79ae', name='rank', doc='rank of the factorization'): 5,\n",
       "  Param(parent='ALS_bc3e75cb79ae', name='maxIter', doc='max number of iterations (>= 0).'): 20,\n",
       "  Param(parent='ALS_bc3e75cb79ae', name='regParam', doc='regularization parameter (>= 0).'): 0.05},\n",
       " {Param(parent='ALS_bc3e75cb79ae', name='rank', doc='rank of the factorization'): 5,\n",
       "  Param(parent='ALS_bc3e75cb79ae', name='maxIter', doc='max number of iterations (>= 0).'): 20,\n",
       "  Param(parent='ALS_bc3e75cb79ae', name='regParam', doc='regularization parameter (>= 0).'): 0.1},\n",
       " {Param(parent='ALS_bc3e75cb79ae', name='rank', doc='rank of the factorization'): 7,\n",
       "  Param(parent='ALS_bc3e75cb79ae', name='maxIter', doc='max number of iterations (>= 0).'): 10,\n",
       "  Param(parent='ALS_bc3e75cb79ae', name='regParam', doc='regularization parameter (>= 0).'): 0.05},\n",
       " {Param(parent='ALS_bc3e75cb79ae', name='rank', doc='rank of the factorization'): 7,\n",
       "  Param(parent='ALS_bc3e75cb79ae', name='maxIter', doc='max number of iterations (>= 0).'): 10,\n",
       "  Param(parent='ALS_bc3e75cb79ae', name='regParam', doc='regularization parameter (>= 0).'): 0.1},\n",
       " {Param(parent='ALS_bc3e75cb79ae', name='rank', doc='rank of the factorization'): 7,\n",
       "  Param(parent='ALS_bc3e75cb79ae', name='maxIter', doc='max number of iterations (>= 0).'): 20,\n",
       "  Param(parent='ALS_bc3e75cb79ae', name='regParam', doc='regularization parameter (>= 0).'): 0.05},\n",
       " {Param(parent='ALS_bc3e75cb79ae', name='rank', doc='rank of the factorization'): 7,\n",
       "  Param(parent='ALS_bc3e75cb79ae', name='maxIter', doc='max number of iterations (>= 0).'): 20,\n",
       "  Param(parent='ALS_bc3e75cb79ae', name='regParam', doc='regularization parameter (>= 0).'): 0.1},\n",
       " {Param(parent='ALS_bc3e75cb79ae', name='rank', doc='rank of the factorization'): 10,\n",
       "  Param(parent='ALS_bc3e75cb79ae', name='maxIter', doc='max number of iterations (>= 0).'): 10,\n",
       "  Param(parent='ALS_bc3e75cb79ae', name='regParam', doc='regularization parameter (>= 0).'): 0.05},\n",
       " {Param(parent='ALS_bc3e75cb79ae', name='rank', doc='rank of the factorization'): 10,\n",
       "  Param(parent='ALS_bc3e75cb79ae', name='maxIter', doc='max number of iterations (>= 0).'): 10,\n",
       "  Param(parent='ALS_bc3e75cb79ae', name='regParam', doc='regularization parameter (>= 0).'): 0.1},\n",
       " {Param(parent='ALS_bc3e75cb79ae', name='rank', doc='rank of the factorization'): 10,\n",
       "  Param(parent='ALS_bc3e75cb79ae', name='maxIter', doc='max number of iterations (>= 0).'): 20,\n",
       "  Param(parent='ALS_bc3e75cb79ae', name='regParam', doc='regularization parameter (>= 0).'): 0.05},\n",
       " {Param(parent='ALS_bc3e75cb79ae', name='rank', doc='rank of the factorization'): 10,\n",
       "  Param(parent='ALS_bc3e75cb79ae', name='maxIter', doc='max number of iterations (>= 0).'): 20,\n",
       "  Param(parent='ALS_bc3e75cb79ae', name='regParam', doc='regularization parameter (>= 0).'): 0.1}]"
      ]
     },
     "metadata": {},
     "execution_count": 22
    }
   ],
   "source": [
    "parameter_grid"
   ]
  },
  {
   "cell_type": "code",
   "execution_count": 23,
   "metadata": {},
   "outputs": [],
   "source": [
    "cross_validator = CrossValidator(\n",
    "    estimator=als,\n",
    "    estimatorParamMaps=parameter_grid,\n",
    "    evaluator=evaluator,\n",
    "    numFolds=2,\n",
    ")\n",
    "\n",
    "cross_validator_model = cross_validator.fit(df_train)"
   ]
  },
  {
   "cell_type": "code",
   "execution_count": 24,
   "metadata": {},
   "outputs": [],
   "source": [
    "predictions = cross_validator_model.transform(df_val)"
   ]
  },
  {
   "cell_type": "code",
   "execution_count": 25,
   "metadata": {},
   "outputs": [],
   "source": [
    "rmse = evaluator.evaluate(predictions.na.drop())"
   ]
  },
  {
   "cell_type": "code",
   "execution_count": 26,
   "metadata": {},
   "outputs": [
    {
     "output_type": "execute_result",
     "data": {
      "text/plain": [
       "0.9013639035785049"
      ]
     },
     "metadata": {},
     "execution_count": 26
    }
   ],
   "source": [
    "rmse"
   ]
  },
  {
   "source": [
    "### The cross_validator_model has an attribute called .bestModel which reference to the best model found during cross validation tuning"
   ],
   "cell_type": "markdown",
   "metadata": {}
  },
  {
   "cell_type": "code",
   "execution_count": 27,
   "metadata": {},
   "outputs": [],
   "source": [
    "best_model = cross_validator_model.bestModel"
   ]
  },
  {
   "cell_type": "code",
   "execution_count": 28,
   "metadata": {},
   "outputs": [
    {
     "output_type": "execute_result",
     "data": {
      "text/plain": [
       "pyspark.ml.recommendation.ALSModel"
      ]
     },
     "metadata": {},
     "execution_count": 28
    }
   ],
   "source": [
    "type(best_model)"
   ]
  },
  {
   "cell_type": "code",
   "execution_count": 29,
   "metadata": {},
   "outputs": [],
   "source": [
    "predictions = best_model.transform(df_val)"
   ]
  },
  {
   "cell_type": "code",
   "execution_count": 30,
   "metadata": {},
   "outputs": [],
   "source": [
    "rmse = evaluator.evaluate(predictions.dropna())"
   ]
  },
  {
   "cell_type": "code",
   "execution_count": 31,
   "metadata": {},
   "outputs": [
    {
     "output_type": "execute_result",
     "data": {
      "text/plain": [
       "0.9013639035785049"
      ]
     },
     "metadata": {},
     "execution_count": 31
    }
   ],
   "source": [
    "rmse"
   ]
  },
  {
   "cell_type": "code",
   "execution_count": 32,
   "metadata": {},
   "outputs": [],
   "source": [
    "spark.stop()"
   ]
  },
  {
   "cell_type": "code",
   "execution_count": null,
   "metadata": {},
   "outputs": [],
   "source": []
  }
 ]
}